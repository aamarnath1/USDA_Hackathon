{
 "cells": [
  {
   "cell_type": "code",
   "execution_count": null,
   "id": "b73c77ea",
   "metadata": {},
   "outputs": [],
   "source": [
    "#Importing our Packages\n",
    "import pandas as pd\n",
    "import numpy as np\n",
    "import matplotlib\n",
    "import keras\n",
    "import tensorflow"
   ]
  },
  {
   "cell_type": "code",
   "execution_count": null,
   "id": "2d5de79e",
   "metadata": {},
   "outputs": [],
   "source": [
    "#Data Cleaning?"
   ]
  },
  {
   "cell_type": "code",
   "execution_count": null,
   "id": "f055b893",
   "metadata": {},
   "outputs": [],
   "source": [
    "#Data Visualization if we need"
   ]
  },
  {
   "cell_type": "code",
   "execution_count": null,
   "id": "b365462d",
   "metadata": {},
   "outputs": [],
   "source": [
    "#Data Pre-Processing - how can we change the image to seperate the fat + ribeye area?"
   ]
  },
  {
   "cell_type": "code",
   "execution_count": null,
   "id": "50358643",
   "metadata": {},
   "outputs": [],
   "source": [
    "#Model Training"
   ]
  },
  {
   "cell_type": "code",
   "execution_count": null,
   "id": "5319e0a8",
   "metadata": {},
   "outputs": [],
   "source": [
    "#Model Evaluation"
   ]
  },
  {
   "cell_type": "code",
   "execution_count": null,
   "id": "71802d1e",
   "metadata": {},
   "outputs": [],
   "source": []
  }
 ],
 "metadata": {
  "kernelspec": {
   "display_name": "Python 3",
   "language": "python",
   "name": "python3"
  },
  "language_info": {
   "codemirror_mode": {
    "name": "ipython",
    "version": 3
   },
   "file_extension": ".py",
   "mimetype": "text/x-python",
   "name": "python",
   "nbconvert_exporter": "python",
   "pygments_lexer": "ipython3",
   "version": "3.8.8"
  }
 },
 "nbformat": 4,
 "nbformat_minor": 5
}
